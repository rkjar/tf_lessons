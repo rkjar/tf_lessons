{
  "nbformat": 4,
  "nbformat_minor": 0,
  "metadata": {
    "colab": {
      "name": "first_lesson.ipynb",
      "provenance": [],
      "authorship_tag": "ABX9TyOB0xaBCuCRgTg8XSaizRhX"
    },
    "kernelspec": {
      "name": "python3",
      "display_name": "Python 3"
    },
    "language_info": {
      "name": "python"
    }
  },
  "cells": [
    {
      "cell_type": "code",
      "execution_count": 5,
      "metadata": {
        "id": "SbLTMhOoLlAD"
      },
      "outputs": [],
      "source": [
        "import tensorflow as tf\n",
        "import numpy as np\n",
        "import matplotlib.pyplot as plt"
      ]
    },
    {
      "cell_type": "code",
      "source": [
        "celsius = np.array([-40, -10, 0, 8, 15, 22, 38], dtype=float)\n",
        "fahrenheit = np.array([-40, 14, 32, 46, 59, 72, 100], dtype=float)\n",
        "layer0 = tf.keras.layers.Dense(units=1, input_shape=[1])\n",
        "model = tf.keras.Sequential([layer0])\n",
        "model.compile(loss='mean_squared_error',\n",
        "              optimizer=tf.keras.optimizers.Adam(0.1))"
      ],
      "metadata": {
        "id": "hBLXQ4SML0S1"
      },
      "execution_count": 2,
      "outputs": []
    },
    {
      "cell_type": "code",
      "source": [
        "history = model.fit(x=celsius, y=fahrenheit, epochs=500, verbose=False)"
      ],
      "metadata": {
        "id": "FvnJ0qe2MV1V"
      },
      "execution_count": 3,
      "outputs": []
    },
    {
      "cell_type": "code",
      "source": [
        "fig, ax = plt.subplots()\n",
        "ax.grid()\n",
        "plt.xlabel('Epoch')\n",
        "plt.ylabel('Loss')\n",
        "plt.plot(history.history['loss'])\n",
        "plt.show()"
      ],
      "metadata": {
        "colab": {
          "base_uri": "https://localhost:8080/",
          "height": 296
        },
        "id": "MDH-KS9JMo_x",
        "outputId": "6a4f5e88-b517-4a8e-c2e4-69635b9501fc"
      },
      "execution_count": 7,
      "outputs": [
        {
          "output_type": "stream",
          "name": "stderr",
          "text": [
            "No handles with labels found to put in legend.\n"
          ]
        },
        {
          "output_type": "display_data",
          "data": {
            "text/plain": [
              "<Figure size 432x288 with 1 Axes>"
            ],
            "image/png": "[encoded data removed]"
          },
          "metadata": {
            "needs_background": "light"
          }
        }
      ]
    },
    {
      "cell_type": "code",
      "source": [
        "print(model.predict([100.0]))\n",
        "print(model.predict([25.0]))\n"
      ],
      "metadata": {
        "colab": {
          "base_uri": "https://localhost:8080/"
        },
        "id": "Wc4gpHaWNdBa",
        "outputId": "6d027552-e840-4ea9-8539-676d7ddee5f8"
      },
      "execution_count": 9,
      "outputs": [
        {
          "output_type": "stream",
          "name": "stdout",
          "text": [
            "[[211.3383]]\n",
            "[[74.81145]]\n"
          ]
        }
      ]
    },
    {
      "cell_type": "code",
      "source": [
        "print(layer0.get_weights())"
      ],
      "metadata": {
        "colab": {
          "base_uri": "https://localhost:8080/"
        },
        "id": "pW9T8ZfmNs-p",
        "outputId": "6c96037b-6e6e-48a7-e6ba-5eec75180f8f"
      },
      "execution_count": 10,
      "outputs": [
        {
          "output_type": "stream",
          "name": "stdout",
          "text": [
            "[array([[1.8203582]], dtype=float32), array([29.30249], dtype=float32)]\n"
          ]
        }
      ]
    }
  ]
}